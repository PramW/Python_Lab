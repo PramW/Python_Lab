{
  "nbformat": 4,
  "nbformat_minor": 0,
  "metadata": {
    "colab": {
      "provenance": [],
      "authorship_tag": "ABX9TyNDWvdP2vFgjgKi/zsSARU4",
      "include_colab_link": true
    },
    "kernelspec": {
      "name": "python3",
      "display_name": "Python 3"
    },
    "language_info": {
      "name": "python"
    }
  },
  "cells": [
    {
      "cell_type": "markdown",
      "metadata": {
        "id": "view-in-github",
        "colab_type": "text"
      },
      "source": [
        "<a href=\"https://colab.research.google.com/github/PramW/Python_Lab/blob/Week2/2802488361_Dimas_Pramatya_Wijaya_Week2.ipynb\" target=\"_parent\"><img src=\"https://colab.research.google.com/assets/colab-badge.svg\" alt=\"Open In Colab\"/></a>"
      ]
    },
    {
      "cell_type": "markdown",
      "source": [
        "Gauss Seidel Method"
      ],
      "metadata": {
        "id": "sjsm9Hgqq3Mv"
      }
    },
    {
      "cell_type": "code",
      "source": [
        "import numpy as np\n",
        "a = [[8, 3, -3],[-2,-8,5],[3, 5 , 10]]#diambil miring dari pojok kiri atas kebawah (8,-8,10)(8>3+3)\n",
        "#find diagonal coefficients\n",
        "diag = np.diag (np.abs(a))\n",
        "#find row sum without diagonal\n",
        "off_diag = np.sum(np.abs(a), axis = 1) - diag\n",
        "if np.all(diag > off_diag):\n",
        "  print('matrix is diagonally dominant')#diagonally dominant karena lebih besar semua\n",
        "else:\n",
        "  print('NOT diagonally dominant')"
      ],
      "metadata": {
        "colab": {
          "base_uri": "https://localhost:8080/"
        },
        "id": "UbQbZdP0q3lF",
        "outputId": "f36aee2b-3835-48cd-8ac6-3003c66c19c0"
      },
      "execution_count": 2,
      "outputs": [
        {
          "output_type": "stream",
          "name": "stdout",
          "text": [
            "matrix is diagonally dominant\n"
          ]
        }
      ]
    },
    {
      "cell_type": "markdown",
      "source": [
        "contoh kalau nggak dominant"
      ],
      "metadata": {
        "id": "wqAFmbQoq_0q"
      }
    },
    {
      "cell_type": "code",
      "source": [
        "import numpy as np\n",
        "a = [[6, 3, -3],[-2,-8,5],[3, 5 , 10]]#diambil miring dari pojok kiri atas kebawah (6,-8,10)(6>3+3)\n",
        "#find diagonal coefficients\n",
        "diag = np.diag (np.abs(a))\n",
        "#find row sum without diagonal\n",
        "off_diag = np.sum(np.abs(a), axis = 1) - diag\n",
        "if np.all(diag > off_diag):\n",
        "  print('matrix is diagonally dominant')\n",
        "else:\n",
        "  print('NOT diagonally dominant')#not diagonally dominant karena 6 tidak lebih besar dari 3+3"
      ],
      "metadata": {
        "colab": {
          "base_uri": "https://localhost:8080/"
        },
        "id": "c_8al_jtrI-U",
        "outputId": "0d96a0cb-4651-4201-f5bd-25b60475aa50"
      },
      "execution_count": 3,
      "outputs": [
        {
          "output_type": "stream",
          "name": "stdout",
          "text": [
            "NOT diagonally dominant\n"
          ]
        }
      ]
    },
    {
      "cell_type": "markdown",
      "source": [
        "Gauss Seilder Solver"
      ],
      "metadata": {
        "id": "j9PghelbrQFa"
      }
    },
    {
      "cell_type": "code",
      "source": [
        "x1=5\n",
        "x2=5\n",
        "x3=5\n",
        "epsilon = 0.001\n",
        "converged = False\n",
        "x_old = np.array([x1,x2,x3])\n",
        "\n",
        "for k in range(1,50):\n",
        "  x1 = (2 + 3*x2 - 1*x3) / (10)\n",
        "  x2 = (1 - 1*x1 + 2*x3) / (4)\n",
        "  x3 = (2 + 2*x1 + 1*x2) / (14)\n",
        "  x_new = np.array([x1,x2,x3])\n",
        "  dx = np.sqrt(np.dot(x_new - x_old, x_new - x_old))\n",
        "  print(f\"{k}, {x1:.4f},{x2:.4f},{x3:.4f}\")\n",
        "  if dx < epsilon:\n",
        "    converged = True\n",
        "    print('Algorithm Converged at Iteration %d' %k)\n",
        "    break\n",
        "  x_old = x_new\n",
        "\n",
        "if not converged:\n",
        "  print('not converege,increase the # of iterations')"
      ],
      "metadata": {
        "colab": {
          "base_uri": "https://localhost:8080/"
        },
        "id": "yz42E1QZrYuz",
        "outputId": "433a1b87-eb80-43fc-e87b-7babd02bc314"
      },
      "execution_count": 4,
      "outputs": [
        {
          "output_type": "stream",
          "name": "stdout",
          "text": [
            "1, 1.2000,2.4500,0.4893\n",
            "2, 0.8861,0.2731,0.2889\n",
            "3, 0.2530,0.3312,0.2027\n",
            "4, 0.2791,0.2816,0.2028\n",
            "5, 0.2642,0.2854,0.2010\n",
            "6, 0.2655,0.2841,0.2011\n",
            "7, 0.2651,0.2843,0.2010\n",
            "Algorithm Converged at Iteration 7\n"
          ]
        }
      ]
    },
    {
      "cell_type": "markdown",
      "source": [
        "use numpy.linalg.solve"
      ],
      "metadata": {
        "id": "sbCG4fG3rbrO"
      }
    },
    {
      "cell_type": "code",
      "source": [
        "\n",
        "import numpy as np\n",
        "#Define matrix A and vector y\n",
        "A = np.array([[4,3,-5],[-2,-4,5],[8,8,0]])\n",
        "y = np.array([2,5,-3])\n",
        "#solve for x\n",
        "x = np.linalg.solve(A,y)\n",
        "#print the solution\n",
        "print(x)"
      ],
      "metadata": {
        "colab": {
          "base_uri": "https://localhost:8080/"
        },
        "id": "w9oc7L4Trj1T",
        "outputId": "6f82f8fd-c793-4567-f649-b5a515d0d37f"
      },
      "execution_count": 5,
      "outputs": [
        {
          "output_type": "stream",
          "name": "stdout",
          "text": [
            "[ 2.20833333 -2.58333333 -0.18333333]\n"
          ]
        }
      ]
    },
    {
      "cell_type": "markdown",
      "source": [
        "yang diberi invers"
      ],
      "metadata": {
        "id": "igBKLpOcuzD0"
      }
    },
    {
      "cell_type": "code",
      "source": [
        "import numpy as np\n",
        "#Define matrix A and vector y\n",
        "A = np.array([[4,3,-5],[-2,-4,5],[8,8,0]])\n",
        "y = np.array([2,5,-3])\n",
        "#find the inverse of A\n",
        "A_inv = np.linalg.inv(A)\n",
        "#multiply the invers by y to get the solution\n",
        "x = np.dot(A_inv,y)\n",
        "#print the solution\n",
        "print(x)\n"
      ],
      "metadata": {
        "colab": {
          "base_uri": "https://localhost:8080/"
        },
        "id": "aCyoJcKZu3s9",
        "outputId": "5631947b-ddcd-467c-850f-3297e51638d3"
      },
      "execution_count": 6,
      "outputs": [
        {
          "output_type": "stream",
          "name": "stdout",
          "text": [
            "[ 2.20833333 -2.58333333 -0.18333333]\n"
          ]
        }
      ]
    },
    {
      "cell_type": "markdown",
      "source": [
        "Matplotlib"
      ],
      "metadata": {
        "id": "6yAEIK4rvBSs"
      }
    },
    {
      "cell_type": "code",
      "source": [
        "import numpy as np\n",
        "from scipy import optimize\n",
        "import matplotlib.pyplot as plt\n",
        "#generate x and y\n",
        "x = np.linspace(0,1,101)\n",
        "y =  1 + x + x * np.random.random(len(x))\n",
        "\n",
        "#assemble matriks A\n",
        "A = np.vstack([x, np.ones(len(x))]).T\n",
        "\n",
        "#turn y into a column vector\n",
        "y = y[:,np.newaxis]\n",
        "\n",
        "#direct least square regression\n",
        "alpha = np.dot((np.dot(np.linalg.inv(np.dot(A.T,A)),A.T)),y)\n",
        "print(alpha)"
      ],
      "metadata": {
        "colab": {
          "base_uri": "https://localhost:8080/"
        },
        "id": "zMQt4KD2vAFT",
        "outputId": "57bde5f2-b404-46ef-a53b-a7bed42d6cf1"
      },
      "execution_count": 7,
      "outputs": [
        {
          "output_type": "stream",
          "name": "stdout",
          "text": [
            "[[1.53676349]\n",
            " [0.99732942]]\n"
          ]
        }
      ]
    },
    {
      "cell_type": "code",
      "source": [
        "plt.figure(figsize=(10,8))\n",
        "plt.plot(x,y,'o', label = 'data')\n",
        "plt.plot(x, alpha[0]*x + alpha [1], 'r',label='fit')\n",
        "plt.xlabel('x')\n",
        "plt.ylabel('y')\n",
        "plt.legend()\n",
        "plt.show"
      ],
      "metadata": {
        "colab": {
          "base_uri": "https://localhost:8080/",
          "height": 867
        },
        "id": "xcOH-oN4v8iH",
        "outputId": "e90c6ec5-37fb-4eee-cf44-505832b8e5fd"
      },
      "execution_count": 9,
      "outputs": [
        {
          "output_type": "execute_result",
          "data": {
            "text/plain": [
              "<function matplotlib.pyplot.show(close=None, block=None)>"
            ],
            "text/html": [
              "<div style=\"max-width:800px; border: 1px solid var(--colab-border-color);\"><style>\n",
              "      pre.function-repr-contents {\n",
              "        overflow-x: auto;\n",
              "        padding: 8px 12px;\n",
              "        max-height: 500px;\n",
              "      }\n",
              "\n",
              "      pre.function-repr-contents.function-repr-contents-collapsed {\n",
              "        cursor: pointer;\n",
              "        max-height: 100px;\n",
              "      }\n",
              "    </style>\n",
              "    <pre style=\"white-space: initial; background:\n",
              "         var(--colab-secondary-surface-color); padding: 8px 12px;\n",
              "         border-bottom: 1px solid var(--colab-border-color);\"><b>matplotlib.pyplot.show</b><br/>def show(*args, **kwargs) -&gt; None</pre><pre class=\"function-repr-contents function-repr-contents-collapsed\" style=\"\"><a class=\"filepath\" style=\"display:none\" href=\"#\">/usr/local/lib/python3.11/dist-packages/matplotlib/pyplot.py</a>Display all open figures.\n",
              "\n",
              "Parameters\n",
              "----------\n",
              "block : bool, optional\n",
              "    Whether to wait for all figures to be closed before returning.\n",
              "\n",
              "    If `True` block and run the GUI main loop until all figure windows\n",
              "    are closed.\n",
              "\n",
              "    If `False` ensure that all figure windows are displayed and return\n",
              "    immediately.  In this case, you are responsible for ensuring\n",
              "    that the event loop is running to have responsive figures.\n",
              "\n",
              "    Defaults to True in non-interactive mode and to False in interactive\n",
              "    mode (see `.pyplot.isinteractive`).\n",
              "\n",
              "See Also\n",
              "--------\n",
              "ion : Enable interactive mode, which shows / updates the figure after\n",
              "      every plotting command, so that calling ``show()`` is not necessary.\n",
              "ioff : Disable interactive mode.\n",
              "savefig : Save the figure to an image file instead of showing it on screen.\n",
              "\n",
              "Notes\n",
              "-----\n",
              "**Saving figures to file and showing a window at the same time**\n",
              "\n",
              "If you want an image file as well as a user interface window, use\n",
              "`.pyplot.savefig` before `.pyplot.show`. At the end of (a blocking)\n",
              "``show()`` the figure is closed and thus unregistered from pyplot. Calling\n",
              "`.pyplot.savefig` afterwards would save a new and thus empty figure. This\n",
              "limitation of command order does not apply if the show is non-blocking or\n",
              "if you keep a reference to the figure and use `.Figure.savefig`.\n",
              "\n",
              "**Auto-show in jupyter notebooks**\n",
              "\n",
              "The jupyter backends (activated via ``%matplotlib inline``,\n",
              "``%matplotlib notebook``, or ``%matplotlib widget``), call ``show()`` at\n",
              "the end of every cell by default. Thus, you usually don&#x27;t have to call it\n",
              "explicitly there.</pre>\n",
              "      <script>\n",
              "      if (google.colab.kernel.accessAllowed && google.colab.files && google.colab.files.view) {\n",
              "        for (const element of document.querySelectorAll('.filepath')) {\n",
              "          element.style.display = 'block'\n",
              "          element.onclick = (event) => {\n",
              "            event.preventDefault();\n",
              "            event.stopPropagation();\n",
              "            google.colab.files.view(element.textContent, 569);\n",
              "          };\n",
              "        }\n",
              "      }\n",
              "      for (const element of document.querySelectorAll('.function-repr-contents')) {\n",
              "        element.onclick = (event) => {\n",
              "          event.preventDefault();\n",
              "          event.stopPropagation();\n",
              "          element.classList.toggle('function-repr-contents-collapsed');\n",
              "        };\n",
              "      }\n",
              "      </script>\n",
              "      </div>"
            ]
          },
          "metadata": {},
          "execution_count": 9
        },
        {
          "output_type": "display_data",
          "data": {
            "text/plain": [
              "<Figure size 1000x800 with 1 Axes>"
            ],
            "image/png": "[encoded data removed]"
          },
          "metadata": {}
        }
      ]
    },
    {
      "cell_type": "code",
      "source": [
        "import numpy as np\n",
        "#generate x and date points\n",
        "x = np.linspace(0,1,101)\n",
        "y = 1 + x + x * np.random.random(len(x))\n",
        "\n",
        "#assamble matrix A\n",
        "A = np.vstack([x, np.ones(len(x))]).T\n",
        "\n",
        "#turn y into a column vector\n",
        "y = y[:, np.newaxis]\n",
        "\n",
        "#calculate pseudoinverse\n",
        "pinv = np.linalg.pinv(A)\n",
        "\n",
        "#compute the solution\n",
        "alpha = pinv.dot(y)\n",
        "\n",
        "#print the coefficients\n",
        "print(alpha)"
      ],
      "metadata": {
        "colab": {
          "base_uri": "https://localhost:8080/"
        },
        "id": "wUy6WmPqxWoE",
        "outputId": "3642847b-4a70-4d0d-bc11-3b7dabd60c68"
      },
      "execution_count": 10,
      "outputs": [
        {
          "output_type": "stream",
          "name": "stdout",
          "text": [
            "[[1.5563227]\n",
            " [0.9753431]]\n"
          ]
        }
      ]
    },
    {
      "cell_type": "markdown",
      "source": [
        "Tugas Modul 2"
      ],
      "metadata": {
        "id": "atXS2nC15eof"
      }
    },
    {
      "cell_type": "markdown",
      "source": [
        "No 1"
      ],
      "metadata": {
        "id": "h7bVl9_V5q03"
      }
    },
    {
      "cell_type": "code",
      "source": [
        "import numpy as np\n",
        "\n",
        "def gauss_seidel(A, B, initial_guess, tol=0.001, max_iterations=100):\n",
        "    n = len(B)\n",
        "    x = np.array(initial_guess, dtype=float)\n",
        "    x_new = np.copy(x)\n",
        "\n",
        "    for _ in range(max_iterations):\n",
        "        for i in range(n):\n",
        "            sum1 = sum(A[i][j] * x_new[j] for j in range(n) if j != i)\n",
        "            x_new[i] = (B[i] - sum1) / A[i][i]\n",
        "\n",
        "        if np.linalg.norm(x_new - x, ord=np.inf) < tol:\n",
        "            break\n",
        "        x = np.copy(x_new)\n",
        "\n",
        "    return x\n",
        "\n",
        "# Persamaan pertama\n",
        "A1 = np.array([[2, 3, -1], [1, -1, 2], [3, 2, 1]])\n",
        "B1 = np.array([10, 4, 14])\n",
        "initial_guess1 = [5, 5, 5]\n",
        "\n",
        "result1 = gauss_seidel(A1, B1, initial_guess1)\n",
        "print(\"Hasil Gauss-Seidel untuk sistem pertama:\", result1)\n",
        "\n",
        "# Bandingkan dengan metode numpy\n",
        "print(\"Hasil menggunakan numpy:\", np.linalg.solve(A1, B1))\n"
      ],
      "metadata": {
        "colab": {
          "base_uri": "https://localhost:8080/"
        },
        "id": "bI8m243c5gK0",
        "outputId": "87881ef3-e8ae-41b8-8a61-d7628f7c6f76"
      },
      "execution_count": 5,
      "outputs": [
        {
          "output_type": "stream",
          "name": "stdout",
          "text": [
            "Hasil Gauss-Seidel untuk sistem pertama: [-8.85379963e+93 -2.65613989e+94  7.96841967e+94]\n",
            "Hasil menggunakan numpy: [0.65 4.15 3.75]\n"
          ]
        }
      ]
    },
    {
      "cell_type": "markdown",
      "source": [
        "No 2"
      ],
      "metadata": {
        "id": "YfP9uIXK5tEg"
      }
    },
    {
      "cell_type": "code",
      "source": [
        "import numpy as np\n",
        "\n",
        "def gauss_seidel(A, B, initial_guess, tol=0.001, max_iterations=100):\n",
        "    n = len(B)\n",
        "    x = np.array(initial_guess, dtype=float)\n",
        "    x_new = np.copy(x)\n",
        "\n",
        "    for _ in range(max_iterations):\n",
        "        for i in range(n):\n",
        "            sum1 = sum(A[i][j] * x_new[j] for j in range(n) if j != i)\n",
        "            x_new[i] = (B[i] - sum1) / A[i][i]\n",
        "\n",
        "        if np.linalg.norm(x_new - x, ord=np.inf) < tol:\n",
        "            break\n",
        "        x = np.copy(x_new)\n",
        "\n",
        "    return x\n",
        "\n",
        "# Persamaan kedua\n",
        "A2 = np.array([[3, -0.1, -0.2], [0.1, 7, -0.3], [0.3, -0.2, 10]])\n",
        "B2 = np.array([7.85, -19.3, 71.4])\n",
        "initial_guess2 = [1, 2, 3]\n",
        "\n",
        "result2 = gauss_seidel(A2, B2, initial_guess2)\n",
        "print(\"Hasil Gauss-Seidel untuk sistem kedua:\", result2)\n",
        "\n",
        "# Bandingkan dengan metode numpy\n",
        "print(\"Hasil menggunakan numpy:\", np.linalg.solve(A2, B2))\n"
      ],
      "metadata": {
        "colab": {
          "base_uri": "https://localhost:8080/"
        },
        "id": "QszJCe2L5uyu",
        "outputId": "f240048b-56f4-454c-dff6-ccc6ecd4cc2b"
      },
      "execution_count": 6,
      "outputs": [
        {
          "output_type": "stream",
          "name": "stdout",
          "text": [
            "Hasil Gauss-Seidel untuk sistem kedua: [ 3.00001426 -2.49999286  6.99999971]\n",
            "Hasil menggunakan numpy: [ 3.  -2.5  7. ]\n"
          ]
        }
      ]
    },
    {
      "cell_type": "markdown",
      "source": [
        "No 3"
      ],
      "metadata": {
        "id": "XZrVh2OL57Xb"
      }
    },
    {
      "cell_type": "code",
      "source": [
        "import numpy as np\n",
        "import matplotlib.pyplot as plt\n",
        "\n",
        "def least_squares(X, Y):\n",
        "    n = len(X)\n",
        "    X_mean = np.mean(X)\n",
        "    Y_mean = np.mean(Y)\n",
        "\n",
        "    numerator = sum((X[i] - X_mean) * (Y[i] - Y_mean) for i in range(n))\n",
        "    denominator = sum((X[i] - X_mean) ** 2 for i in range(n))\n",
        "    a = numerator / denominator\n",
        "    b = Y_mean - a * X_mean\n",
        "\n",
        "    return a, b\n",
        "\n",
        "# Data\n",
        "X = np.array([5, 4, 6, 7, 5])\n",
        "Y = np.array([10, 8, 12, 14, 10])\n",
        "\n",
        "# Perhitungan regresi\n",
        "a, b = least_squares(X, Y)\n",
        "print(f\"Persamaan regresi: y = {a:.4f}x + {b:.4f}\")\n",
        "\n",
        "# Plot regresi\n",
        "plt.scatter(X, Y, color='red', label='Data')\n",
        "plt.plot(X, a*X + b, color='blue', label=f'Regresi: y = {a:.4f}x + {b:.4f}')\n",
        "plt.xlabel(\"X\")\n",
        "plt.ylabel(\"Y\")\n",
        "plt.legend()\n",
        "plt.show()\n"
      ],
      "metadata": {
        "colab": {
          "base_uri": "https://localhost:8080/",
          "height": 466
        },
        "id": "Fv2TFJl8563h",
        "outputId": "75e85711-a6e4-4dab-b3f9-9891079f4b86"
      },
      "execution_count": 7,
      "outputs": [
        {
          "output_type": "stream",
          "name": "stdout",
          "text": [
            "Persamaan regresi: y = 2.0000x + 0.0000\n"
          ]
        },
        {
          "output_type": "display_data",
          "data": {
            "text/plain": [
              "<Figure size 640x480 with 1 Axes>"
            ],
            "image/png": "[encoded data removed]"
          },
          "metadata": {}
        }
      ]
    }
  ]
}